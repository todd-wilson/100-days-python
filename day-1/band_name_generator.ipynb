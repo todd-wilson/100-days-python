{
  "nbformat": 4,
  "nbformat_minor": 0,
  "metadata": {
    "colab": {
      "provenance": [],
      "authorship_tag": "ABX9TyMXTV0ggKSP1Nby7JKMCZmy",
      "include_colab_link": true
    },
    "kernelspec": {
      "name": "python3",
      "display_name": "Python 3"
    },
    "language_info": {
      "name": "python"
    }
  },
  "cells": [
    {
      "cell_type": "markdown",
      "metadata": {
        "id": "view-in-github",
        "colab_type": "text"
      },
      "source": [
        "<a href=\"https://colab.research.google.com/github/todd-wilson/100-days-python/blob/dev/band_name_generator.ipynb\" target=\"_parent\"><img src=\"https://colab.research.google.com/assets/colab-badge.svg\" alt=\"Open In Colab\"/></a>"
      ]
    },
    {
      "cell_type": "markdown",
      "source": [
        "# Band Name Generator\n",
        "1. Enter the city you grew up in.\n",
        "2. Enter your pet's name."
      ],
      "metadata": {
        "id": "HbGc9C36iK5a"
      }
    },
    {
      "cell_type": "code",
      "execution_count": null,
      "metadata": {
        "id": "ugCTuD-CeZBz"
      },
      "outputs": [],
      "source": [
        "print('Welcome to the Band Name Generator.')\n",
        "city = input(\"What city did you grow up in?\")\n",
        "pet_name = input(\"What is your pet's name?\")\n",
        "print(f'Your band name could be {city} {pet_name}')"
      ]
    },
    {
      "cell_type": "code",
      "source": [],
      "metadata": {
        "id": "vmxe_nc2ifIK"
      },
      "execution_count": null,
      "outputs": []
    }
  ]
}
