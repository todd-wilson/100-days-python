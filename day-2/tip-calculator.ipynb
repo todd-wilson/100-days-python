{
  "nbformat": 4,
  "nbformat_minor": 0,
  "metadata": {
    "colab": {
      "provenance": [],
      "authorship_tag": "ABX9TyM2LWZRRB22+ysph6hoKpQB",
      "include_colab_link": true
    },
    "kernelspec": {
      "name": "python3",
      "display_name": "Python 3"
    },
    "language_info": {
      "name": "python"
    }
  },
  "cells": [
    {
      "cell_type": "markdown",
      "metadata": {
        "id": "view-in-github",
        "colab_type": "text"
      },
      "source": [
        "<a href=\"https://colab.research.google.com/github/todd-wilson/100-days-python/blob/main/day-2/tip-calculator.ipynb\" target=\"_parent\"><img src=\"https://colab.research.google.com/assets/colab-badge.svg\" alt=\"Open In Colab\"/></a>"
      ]
    },
    {
      "cell_type": "markdown",
      "source": [
        "# Tip Calculator (easy)\n",
        "* Will split a bill between a number of people and include tip.\n",
        "* Need to cast input as float or int so that calculations can be done at the end.\n",
        "* Doesn't have any error handling.\n",
        "* Doesn't check if user has entered correct values.\n",
        "  * For example, the program could not handle **12%** as a tip. I must be an integer.\n",
        "\n",
        "1. Enter 124.56 for total bill.\n",
        "1. Enter 12 for percentage of tip.\n",
        "1. Enter 7 for number of people with which to split the bill.\n",
        "1. The final amount (19.93) will be formatted to two decimal places."
      ],
      "metadata": {
        "id": "POnBEwCMdx9D"
      }
    },
    {
      "cell_type": "code",
      "execution_count": 18,
      "metadata": {
        "id": "1eFcblGFokBS",
        "outputId": "dcc2933d-cba3-40e0-c058-44a87e382891",
        "colab": {
          "base_uri": "https://localhost:8080/"
        }
      },
      "outputs": [
        {
          "output_type": "stream",
          "name": "stdout",
          "text": [
            "Welcome to the tip calculator.\n",
            "What was the total bill?124.56\n",
            "What percentage tip would you like to give? 10, 12 or 15?12\n",
            "How many people with split the bill?7\n",
            "Each person should pay 19.93.\n"
          ]
        }
      ],
      "source": [
        "print(\"Welcome to the tip calculator.\")\n",
        "total_bill = float(input(\"What was the total bill?\"))\n",
        "percent_tip = int(input(\"What percentage tip would you like to give? 10, 12 or 15?\"))\n",
        "num_people = int(input(\"How many people with split the bill?\"))\n",
        "final_amount =  total_bill / num_people * (percent_tip/100 + 1)\n",
        "final_amount_formatted = \"{:.2f}\".format(final_amount)\n",
        "print(f\"Each person should pay {final_amount_formatted}.\")"
      ]
    },
    {
      "cell_type": "code",
      "source": [],
      "metadata": {
        "id": "sy765ntkfoLf"
      },
      "execution_count": null,
      "outputs": []
    }
  ]
}